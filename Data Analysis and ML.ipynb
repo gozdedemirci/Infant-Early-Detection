{
 "cells": [
  {
   "cell_type": "markdown",
   "metadata": {},
   "source": [
    "# Libraries"
   ]
  },
  {
   "cell_type": "code",
   "execution_count": 1,
   "metadata": {},
   "outputs": [],
   "source": [
    "import warnings\n",
    "warnings.filterwarnings(\"ignore\")\n",
    "\n",
    "import pandas as pd\n",
    "import numpy as np\n",
    "\n",
    "import seaborn as sns\n",
    "# import missingno as msno\n",
    "import matplotlib.pyplot as plt\n",
    "\n",
    "from sklearn.impute import KNNImputer\n",
    "from sklearn import model_selection, metrics\n",
    "from sklearn.preprocessing import LabelEncoder\n",
    "from sklearn.preprocessing import StandardScaler\n",
    "\n",
    "from xgboost import XGBRegressor\n",
    "from sklearn.ensemble import RandomForestRegressor, AdaBoostRegressor, GradientBoostingRegressor\n",
    "from sklearn.model_selection import train_test_split\n",
    "\n",
    "import warnings\n",
    "warnings.filterwarnings(\"ignore\", category=FutureWarning)"
   ]
  },
  {
   "cell_type": "markdown",
   "metadata": {},
   "source": [
    "# Datasets"
   ]
  },
  {
   "cell_type": "code",
   "execution_count": 2,
   "metadata": {},
   "outputs": [
    {
     "data": {
      "text/html": [
       "<div>\n",
       "<style scoped>\n",
       "    .dataframe tbody tr th:only-of-type {\n",
       "        vertical-align: middle;\n",
       "    }\n",
       "\n",
       "    .dataframe tbody tr th {\n",
       "        vertical-align: top;\n",
       "    }\n",
       "\n",
       "    .dataframe thead th {\n",
       "        text-align: right;\n",
       "    }\n",
       "</style>\n",
       "<table border=\"1\" class=\"dataframe\">\n",
       "  <thead>\n",
       "    <tr style=\"text-align: right;\">\n",
       "      <th></th>\n",
       "      <th>codeid</th>\n",
       "      <th>dobyr</th>\n",
       "      <th>bw</th>\n",
       "      <th>ega</th>\n",
       "      <th>nsex</th>\n",
       "      <th>hc</th>\n",
       "      <th>length</th>\n",
       "      <th>apgar1</th>\n",
       "      <th>apgar2</th>\n",
       "      <th>studygr</th>\n",
       "      <th>...</th>\n",
       "      <th>vi</th>\n",
       "      <th>vii</th>\n",
       "      <th>testnumear</th>\n",
       "      <th>IHSABR</th>\n",
       "      <th>Speech Therapy</th>\n",
       "      <th>Physical Therapy</th>\n",
       "      <th>Occupational Therapy</th>\n",
       "      <th>Feeding Therapy</th>\n",
       "      <th>Vision Therapy</th>\n",
       "      <th>Specialized Instriuction</th>\n",
       "    </tr>\n",
       "  </thead>\n",
       "  <tbody>\n",
       "    <tr>\n",
       "      <th>0</th>\n",
       "      <td>509362</td>\n",
       "      <td>1991</td>\n",
       "      <td>3346</td>\n",
       "      <td>40</td>\n",
       "      <td>0</td>\n",
       "      <td>NaN</td>\n",
       "      <td>NaN</td>\n",
       "      <td>9.0</td>\n",
       "      <td>9.0</td>\n",
       "      <td>23</td>\n",
       "      <td>...</td>\n",
       "      <td>NaN</td>\n",
       "      <td>NaN</td>\n",
       "      <td>NaN</td>\n",
       "      <td>NaN</td>\n",
       "      <td>0</td>\n",
       "      <td>0</td>\n",
       "      <td>0</td>\n",
       "      <td>0</td>\n",
       "      <td>0</td>\n",
       "      <td>0</td>\n",
       "    </tr>\n",
       "    <tr>\n",
       "      <th>1</th>\n",
       "      <td>959542</td>\n",
       "      <td>1993</td>\n",
       "      <td>3714</td>\n",
       "      <td>40</td>\n",
       "      <td>1</td>\n",
       "      <td>NaN</td>\n",
       "      <td>NaN</td>\n",
       "      <td>NaN</td>\n",
       "      <td>NaN</td>\n",
       "      <td>15</td>\n",
       "      <td>...</td>\n",
       "      <td>NaN</td>\n",
       "      <td>NaN</td>\n",
       "      <td>NaN</td>\n",
       "      <td>NaN</td>\n",
       "      <td>0</td>\n",
       "      <td>0</td>\n",
       "      <td>0</td>\n",
       "      <td>0</td>\n",
       "      <td>0</td>\n",
       "      <td>0</td>\n",
       "    </tr>\n",
       "    <tr>\n",
       "      <th>2</th>\n",
       "      <td>510083</td>\n",
       "      <td>1993</td>\n",
       "      <td>3459</td>\n",
       "      <td>40</td>\n",
       "      <td>0</td>\n",
       "      <td>33.000000</td>\n",
       "      <td>48.299999</td>\n",
       "      <td>9.0</td>\n",
       "      <td>9.0</td>\n",
       "      <td>15</td>\n",
       "      <td>...</td>\n",
       "      <td>NaN</td>\n",
       "      <td>NaN</td>\n",
       "      <td>NaN</td>\n",
       "      <td>NaN</td>\n",
       "      <td>0</td>\n",
       "      <td>0</td>\n",
       "      <td>0</td>\n",
       "      <td>0</td>\n",
       "      <td>0</td>\n",
       "      <td>0</td>\n",
       "    </tr>\n",
       "    <tr>\n",
       "      <th>3</th>\n",
       "      <td>504281</td>\n",
       "      <td>1998</td>\n",
       "      <td>3600</td>\n",
       "      <td>40</td>\n",
       "      <td>0</td>\n",
       "      <td>NaN</td>\n",
       "      <td>NaN</td>\n",
       "      <td>NaN</td>\n",
       "      <td>NaN</td>\n",
       "      <td>16</td>\n",
       "      <td>...</td>\n",
       "      <td>4.83</td>\n",
       "      <td>NaN</td>\n",
       "      <td>1l</td>\n",
       "      <td>0.0</td>\n",
       "      <td>0</td>\n",
       "      <td>0</td>\n",
       "      <td>0</td>\n",
       "      <td>0</td>\n",
       "      <td>0</td>\n",
       "      <td>0</td>\n",
       "    </tr>\n",
       "    <tr>\n",
       "      <th>4</th>\n",
       "      <td>801464</td>\n",
       "      <td>1998</td>\n",
       "      <td>1899</td>\n",
       "      <td>32</td>\n",
       "      <td>1</td>\n",
       "      <td>29.651079</td>\n",
       "      <td>43.000000</td>\n",
       "      <td>NaN</td>\n",
       "      <td>NaN</td>\n",
       "      <td>11</td>\n",
       "      <td>...</td>\n",
       "      <td>5.27</td>\n",
       "      <td>NaN</td>\n",
       "      <td>1l</td>\n",
       "      <td>0.0</td>\n",
       "      <td>0</td>\n",
       "      <td>0</td>\n",
       "      <td>0</td>\n",
       "      <td>0</td>\n",
       "      <td>0</td>\n",
       "      <td>0</td>\n",
       "    </tr>\n",
       "  </tbody>\n",
       "</table>\n",
       "<p>5 rows × 227 columns</p>\n",
       "</div>"
      ],
      "text/plain": [
       "   codeid  dobyr    bw  ega  nsex         hc     length  apgar1  apgar2  \\\n",
       "0  509362   1991  3346   40     0        NaN        NaN     9.0     9.0   \n",
       "1  959542   1993  3714   40     1        NaN        NaN     NaN     NaN   \n",
       "2  510083   1993  3459   40     0  33.000000  48.299999     9.0     9.0   \n",
       "3  504281   1998  3600   40     0        NaN        NaN     NaN     NaN   \n",
       "4  801464   1998  1899   32     1  29.651079  43.000000     NaN     NaN   \n",
       "\n",
       "   studygr  ...    vi  vii  testnumear  IHSABR  Speech Therapy  \\\n",
       "0       23  ...   NaN  NaN         NaN     NaN               0   \n",
       "1       15  ...   NaN  NaN         NaN     NaN               0   \n",
       "2       15  ...   NaN  NaN         NaN     NaN               0   \n",
       "3       16  ...  4.83  NaN          1l     0.0               0   \n",
       "4       11  ...  5.27  NaN          1l     0.0               0   \n",
       "\n",
       "   Physical Therapy  Occupational Therapy  Feeding Therapy  Vision Therapy  \\\n",
       "0                 0                     0                0               0   \n",
       "1                 0                     0                0               0   \n",
       "2                 0                     0                0               0   \n",
       "3                 0                     0                0               0   \n",
       "4                 0                     0                0               0   \n",
       "\n",
       "   Specialized Instriuction  \n",
       "0                         0  \n",
       "1                         0  \n",
       "2                         0  \n",
       "3                         0  \n",
       "4                         0  \n",
       "\n",
       "[5 rows x 227 columns]"
      ]
     },
     "execution_count": 2,
     "metadata": {},
     "output_type": "execute_result"
    }
   ],
   "source": [
    "dic = pd.read_excel(\"Data Dictionary for QC project.xlsx\")\n",
    "dic['Variable Name'] = dic['Variable Name'].str.strip()\n",
    "\n",
    "data = pd.read_excel('data.xlsx')\n",
    "data.drop(['Unnamed: 0'], axis=1, inplace=True)\n",
    "data.replace('-0- ',np.nan, inplace=True)\n",
    "data = data.rename(columns = {'bw44':'bw01','hc44':'hc01'})\n",
    "data.head()"
   ]
  },
  {
   "cell_type": "code",
   "execution_count": 3,
   "metadata": {},
   "outputs": [
    {
     "data": {
      "text/plain": [
       "(3567, 227)"
      ]
     },
     "execution_count": 3,
     "metadata": {},
     "output_type": "execute_result"
    }
   ],
   "source": [
    "data.shape"
   ]
  },
  {
   "cell_type": "markdown",
   "metadata": {},
   "source": [
    "# 3. Data Preparation\n",
    "\n",
    "## 3.1. Data Dictionary Instructions"
   ]
  },
  {
   "cell_type": "code",
   "execution_count": 4,
   "metadata": {},
   "outputs": [],
   "source": [
    "at_birth = [\"studygr\",\"abnhus\",\"abnplacenta\",\"steroids\",\"apnea\",\"asphyxiahypoxia\",\"autism\",\"autism_sib\",\"phenobrb\",\"csection\",\"seizure\",\"bradycar\",\n",
    "            \"breechpres\",\"decels\",\"numdiabetes\",\"discordant\",\"beerwine\",\"csemergency\",\"epi_ethnic\",\"epi_hispanic\",\"immustat\",\"hmd\",\"hyperbil\",\n",
    "            \"mgso4\",\"materntemp\",\"meconiumaspiration\",\"metaacid\",\"ivf_natural\",\"nec\",\"nicu\",\"nsex\",\"methadone\",\"pda\",\"nocare\",\"respiredestress\",\n",
    "            \"nicotine\",\"barbit\",\"benzodi\",\"cannabis\",\"cocaine\",\"opiate\",\"toxeclam\",\"toxcoml\",\"crack\",\"aborts\",\"i\",\"ii\",\"iii\",\"iv\",\"v\",\"vi\",\"vii\",\n",
    "            \"apgar1\",\"apgar2\",\"babynum\",\"bw\",\"discharge_HC\",\"discharge_weight\",\"ega\",\"gravid\",\"hc\",\"newiugr\",\"length\",\"momage\",\"momedu\",\"multinum\",\n",
    "            \"dayshosp\",\"dayscpap\",\"daysresp\",\"parity\",\"dobyr\"]\n",
    "\n",
    "red_colored = ['dodisch','tox','amtnico','anemia','daysphoto','ear','testnum','dotabr','intensity','testnumear','dasdot51','dasdot60',\"pca00\",\n",
    "               \"pca01\",\"pca03\",\"pca04\",\"pca07\",\"pca10\",\"pca13\",\"pca16\",\"pca19\",\"pca22\",\"pca25\",\"pca28\",\"pca34\",\"pca42\",\"pca60\",\"pcanb00\",\n",
    "               \"pcanb01\",'egaCh','nb']\n",
    "blue_colored = ['nocare','immustat','barbit','benzodi','cannabis','cocaine','methadone','opiate','nicotine','csection','csemergency',\n",
    "                   'breechpres','decels','asphyxiahypoxia','bradycar','respiredestress','meconiumaspiration','hyperbil','nec','pda','hmd',\n",
    "                'seizure','phenobrb','materntemp','daysresp']\n",
    "purple_notes = ['immustat','csemergency','breechpres','decels','meconiumaspiration']"
   ]
  },
  {
   "cell_type": "code",
   "execution_count": 5,
   "metadata": {},
   "outputs": [
    {
     "data": {
      "text/plain": [
       "(3567, 196)"
      ]
     },
     "execution_count": 5,
     "metadata": {},
     "output_type": "execute_result"
    }
   ],
   "source": [
    "data.drop(red_colored, axis=1, inplace=True)\n",
    "data[blue_colored] = data[blue_colored].fillna(0)\n",
    "data[purple_notes] = np.where(data[purple_notes] == 2, 0, data[purple_notes])\n",
    "\n",
    "data.shape"
   ]
  },
  {
   "cell_type": "markdown",
   "metadata": {},
   "source": [
    "## 3.2. Droping 25 Month and later longitudinal Tests"
   ]
  },
  {
   "cell_type": "code",
   "execution_count": 6,
   "metadata": {},
   "outputs": [
    {
     "data": {
      "text/plain": [
       "['sqreas28',\n",
       " 'sqcoor28',\n",
       " 'iqgrff28',\n",
       " 'sqspee28',\n",
       " 'sqloco28',\n",
       " 'sqperf28',\n",
       " 'sqpers28',\n",
       " 'sqreas34',\n",
       " 'sqcoor34',\n",
       " 'iqgrff34',\n",
       " 'sqspee34',\n",
       " 'sqloco34',\n",
       " 'sqperf34',\n",
       " 'sqpers34',\n",
       " 'sqreas42',\n",
       " 'sqcoor42',\n",
       " 'iqgrff42',\n",
       " 'sqspee42',\n",
       " 'sqloco42',\n",
       " 'sqperf42',\n",
       " 'sqpers42',\n",
       " 'dasdot51',\n",
       " 'dast51co',\n",
       " 'dast51ea',\n",
       " 'dasgca51',\n",
       " 'dast51na',\n",
       " 'dasnvb51',\n",
       " 'dast51pa',\n",
       " 'dast51pi',\n",
       " 'dast51ve',\n",
       " 'dasvrb51',\n",
       " 'dasdot60',\n",
       " 'dast60co',\n",
       " 'dast60ea',\n",
       " 'dasgca60',\n",
       " 'dast60na',\n",
       " 'dasnvb60',\n",
       " 'dast60pa',\n",
       " 'dast60pi',\n",
       " 'dasvrb60',\n",
       " 'pca28',\n",
       " 'pca34',\n",
       " 'pca42',\n",
       " 'pca60']"
      ]
     },
     "execution_count": 6,
     "metadata": {},
     "output_type": "execute_result"
    }
   ],
   "source": [
    "# longitudinal data months information\n",
    "letters = \"abcdefghijklmnopqrstuvwxyz_ \"\n",
    "longitude = [int(i) for i in list(set(dic['Variable Name'].str.lower().str.strip(letters))) if i != '']\n",
    "drop_long = dic[dic['Variable Name'].str.contains('|'.join([str(i) for i in longitude if i > 25 and i != 44]))]['Variable Name'].to_list()\n",
    "drop_long"
   ]
  },
  {
   "cell_type": "code",
   "execution_count": 7,
   "metadata": {},
   "outputs": [
    {
     "data": {
      "text/plain": [
       "(3567, 157)"
      ]
     },
     "execution_count": 7,
     "metadata": {},
     "output_type": "execute_result"
    }
   ],
   "source": [
    "drop_long.append('dast60ve')\n",
    "data.drop([col for col in drop_long if col in data.columns], axis=1, inplace=True)\n",
    "\n",
    "# new shape\n",
    "data.shape"
   ]
  },
  {
   "cell_type": "markdown",
   "metadata": {},
   "source": [
    "## 3.3. EI vs. Non-EI Datasets"
   ]
  },
  {
   "cell_type": "code",
   "execution_count": 8,
   "metadata": {},
   "outputs": [],
   "source": [
    "data['EI Status'] = data[['Speech Therapy','Physical Therapy', 'Occupational Therapy', 'Feeding Therapy',\n",
    "                          'Specialized Instriuction']].sum(axis=1)\n",
    "\n",
    "data_nonei = data[data['EI Status'] == 0]\n",
    "data_ei = data[data['EI Status'] != 0]"
   ]
  },
  {
   "cell_type": "code",
   "execution_count": 9,
   "metadata": {},
   "outputs": [
    {
     "data": {
      "text/plain": [
       "(2934, 151)"
      ]
     },
     "execution_count": 9,
     "metadata": {},
     "output_type": "execute_result"
    }
   ],
   "source": [
    "df = data_nonei.drop(['Speech Therapy','Physical Therapy', 'Occupational Therapy', 'Feeding Therapy','Vision Therapy','Specialized Instriuction', \n",
    "                      'EI Status'], axis=1)\n",
    "df.shape"
   ]
  },
  {
   "cell_type": "code",
   "execution_count": 10,
   "metadata": {},
   "outputs": [
    {
     "name": "stdout",
     "output_type": "stream",
     "text": [
      "<class 'pandas.core.frame.DataFrame'>\n",
      "Int64Index: 2934 entries, 0 to 3566\n",
      "Columns: 151 entries, codeid to IHSABR\n",
      "dtypes: float64(89), int64(13), object(49)\n",
      "memory usage: 3.4+ MB\n"
     ]
    }
   ],
   "source": [
    "df.info()"
   ]
  },
  {
   "cell_type": "markdown",
   "metadata": {},
   "source": [
    "## 3.4. Different Datasets\n",
    "\n",
    "### - longitudinal Tests by months"
   ]
  },
  {
   "cell_type": "code",
   "execution_count": 11,
   "metadata": {},
   "outputs": [],
   "source": [
    "# df.drop(['gms11.1'],axis=1,inplace=True)"
   ]
  },
  {
   "cell_type": "code",
   "execution_count": 12,
   "metadata": {},
   "outputs": [
    {
     "data": {
      "text/plain": [
       "71"
      ]
     },
     "execution_count": 12,
     "metadata": {},
     "output_type": "execute_result"
    }
   ],
   "source": [
    "len(at_birth)"
   ]
  },
  {
   "cell_type": "code",
   "execution_count": 13,
   "metadata": {},
   "outputs": [],
   "source": [
    "months = {}\n",
    "for month in set([int(i) for i in df.columns.str.lower().str.strip(letters) if i != '']):\n",
    "    months['month_{}'.format(month)] = []\n",
    "    for i,col in enumerate([int(i) if i != '' else i for i in df.columns.str.lower().str.strip(letters)]):\n",
    "        if (type(col) == int) and (col < month):\n",
    "            months['month_{}'.format(month)].append(df.columns[i])\n",
    "        elif (type(col) == str):\n",
    "            months['month_{}'.format(month)].append(df.columns[i])"
   ]
  },
  {
   "cell_type": "code",
   "execution_count": 14,
   "metadata": {},
   "outputs": [],
   "source": [
    "for each in months['month_0']:\n",
    "    if each not in at_birth:\n",
    "        months['month_0'].remove(each)\n",
    "#         print(each)\n",
    "\n",
    "for each in at_birth:\n",
    "    if each not in months['month_0']:\n",
    "        months['month_0'].append(each)\n",
    "#         print(each)"
   ]
  },
  {
   "cell_type": "markdown",
   "metadata": {},
   "source": [
    "# 4. Data Pre-Processing"
   ]
  },
  {
   "cell_type": "code",
   "execution_count": 15,
   "metadata": {},
   "outputs": [
    {
     "name": "stdout",
     "output_type": "stream",
     "text": [
      "The length of categorical variables: 101\n"
     ]
    }
   ],
   "source": [
    "for col in ['i','ii','iii','iv','v','vi']:\n",
    "    df.loc[df[col] == '.',col] = np.nan\n",
    "    \n",
    "categorical_variables = [variable for variable in df.columns if len(df[variable].value_counts()) <= 9]\n",
    "print('The length of categorical variables:',len(categorical_variables))\n",
    "df[[col for col in df.columns if col not in categorical_variables]] = df[[col for col in df.columns if col not in categorical_variables]].astype(\n",
    "    float)\n",
    "df[[col for col in categorical_variables if col in df.columns]] = df[[col for col in categorical_variables if col in df.columns]].astype(str)"
   ]
  },
  {
   "cell_type": "markdown",
   "metadata": {},
   "source": [
    "# 5. Imputation of NaNs"
   ]
  },
  {
   "cell_type": "code",
   "execution_count": 16,
   "metadata": {},
   "outputs": [
    {
     "data": {
      "text/html": [
       "<div>\n",
       "<style scoped>\n",
       "    .dataframe tbody tr th:only-of-type {\n",
       "        vertical-align: middle;\n",
       "    }\n",
       "\n",
       "    .dataframe tbody tr th {\n",
       "        vertical-align: top;\n",
       "    }\n",
       "\n",
       "    .dataframe thead th {\n",
       "        text-align: right;\n",
       "    }\n",
       "</style>\n",
       "<table border=\"1\" class=\"dataframe\">\n",
       "  <thead>\n",
       "    <tr style=\"text-align: right;\">\n",
       "      <th></th>\n",
       "      <th>codeid</th>\n",
       "      <th>dobyr</th>\n",
       "      <th>bw</th>\n",
       "      <th>ega</th>\n",
       "      <th>nsex</th>\n",
       "      <th>hc</th>\n",
       "      <th>length</th>\n",
       "      <th>apgar1</th>\n",
       "      <th>apgar2</th>\n",
       "      <th>studygr</th>\n",
       "      <th>...</th>\n",
       "      <th>dayscpap</th>\n",
       "      <th>abnhus</th>\n",
       "      <th>i</th>\n",
       "      <th>ii</th>\n",
       "      <th>iii</th>\n",
       "      <th>iv</th>\n",
       "      <th>v</th>\n",
       "      <th>vi</th>\n",
       "      <th>vii</th>\n",
       "      <th>IHSABR</th>\n",
       "    </tr>\n",
       "  </thead>\n",
       "  <tbody>\n",
       "    <tr>\n",
       "      <th>0</th>\n",
       "      <td>509362.0</td>\n",
       "      <td>1991.0</td>\n",
       "      <td>3346.0</td>\n",
       "      <td>40.0</td>\n",
       "      <td>0</td>\n",
       "      <td>NaN</td>\n",
       "      <td>NaN</td>\n",
       "      <td>9.0</td>\n",
       "      <td>9.0</td>\n",
       "      <td>23.0</td>\n",
       "      <td>...</td>\n",
       "      <td>NaN</td>\n",
       "      <td>0.0</td>\n",
       "      <td>NaN</td>\n",
       "      <td>NaN</td>\n",
       "      <td>NaN</td>\n",
       "      <td>NaN</td>\n",
       "      <td>NaN</td>\n",
       "      <td>NaN</td>\n",
       "      <td>NaN</td>\n",
       "      <td>nan</td>\n",
       "    </tr>\n",
       "    <tr>\n",
       "      <th>1</th>\n",
       "      <td>959542.0</td>\n",
       "      <td>1993.0</td>\n",
       "      <td>3714.0</td>\n",
       "      <td>40.0</td>\n",
       "      <td>1</td>\n",
       "      <td>NaN</td>\n",
       "      <td>NaN</td>\n",
       "      <td>NaN</td>\n",
       "      <td>NaN</td>\n",
       "      <td>15.0</td>\n",
       "      <td>...</td>\n",
       "      <td>NaN</td>\n",
       "      <td>0.0</td>\n",
       "      <td>NaN</td>\n",
       "      <td>NaN</td>\n",
       "      <td>NaN</td>\n",
       "      <td>NaN</td>\n",
       "      <td>NaN</td>\n",
       "      <td>NaN</td>\n",
       "      <td>NaN</td>\n",
       "      <td>nan</td>\n",
       "    </tr>\n",
       "    <tr>\n",
       "      <th>2</th>\n",
       "      <td>510083.0</td>\n",
       "      <td>1993.0</td>\n",
       "      <td>3459.0</td>\n",
       "      <td>40.0</td>\n",
       "      <td>0</td>\n",
       "      <td>33.000000</td>\n",
       "      <td>48.299999</td>\n",
       "      <td>9.0</td>\n",
       "      <td>9.0</td>\n",
       "      <td>15.0</td>\n",
       "      <td>...</td>\n",
       "      <td>NaN</td>\n",
       "      <td>0.0</td>\n",
       "      <td>NaN</td>\n",
       "      <td>NaN</td>\n",
       "      <td>NaN</td>\n",
       "      <td>NaN</td>\n",
       "      <td>NaN</td>\n",
       "      <td>NaN</td>\n",
       "      <td>NaN</td>\n",
       "      <td>nan</td>\n",
       "    </tr>\n",
       "    <tr>\n",
       "      <th>3</th>\n",
       "      <td>504281.0</td>\n",
       "      <td>1998.0</td>\n",
       "      <td>3600.0</td>\n",
       "      <td>40.0</td>\n",
       "      <td>0</td>\n",
       "      <td>NaN</td>\n",
       "      <td>NaN</td>\n",
       "      <td>NaN</td>\n",
       "      <td>NaN</td>\n",
       "      <td>16.0</td>\n",
       "      <td>...</td>\n",
       "      <td>NaN</td>\n",
       "      <td>0.0</td>\n",
       "      <td>1.59</td>\n",
       "      <td>2.84</td>\n",
       "      <td>4.23</td>\n",
       "      <td>5.57</td>\n",
       "      <td>6.42</td>\n",
       "      <td>4.83</td>\n",
       "      <td>NaN</td>\n",
       "      <td>0.0</td>\n",
       "    </tr>\n",
       "    <tr>\n",
       "      <th>4</th>\n",
       "      <td>801464.0</td>\n",
       "      <td>1998.0</td>\n",
       "      <td>1899.0</td>\n",
       "      <td>32.0</td>\n",
       "      <td>1</td>\n",
       "      <td>29.651079</td>\n",
       "      <td>43.000000</td>\n",
       "      <td>NaN</td>\n",
       "      <td>NaN</td>\n",
       "      <td>11.0</td>\n",
       "      <td>...</td>\n",
       "      <td>NaN</td>\n",
       "      <td>0.0</td>\n",
       "      <td>2.19</td>\n",
       "      <td>3.68</td>\n",
       "      <td>5.27</td>\n",
       "      <td>6.57</td>\n",
       "      <td>7.46</td>\n",
       "      <td>5.27</td>\n",
       "      <td>NaN</td>\n",
       "      <td>0.0</td>\n",
       "    </tr>\n",
       "  </tbody>\n",
       "</table>\n",
       "<p>5 rows × 151 columns</p>\n",
       "</div>"
      ],
      "text/plain": [
       "     codeid   dobyr      bw   ega nsex         hc     length  apgar1  apgar2  \\\n",
       "0  509362.0  1991.0  3346.0  40.0    0        NaN        NaN     9.0     9.0   \n",
       "1  959542.0  1993.0  3714.0  40.0    1        NaN        NaN     NaN     NaN   \n",
       "2  510083.0  1993.0  3459.0  40.0    0  33.000000  48.299999     9.0     9.0   \n",
       "3  504281.0  1998.0  3600.0  40.0    0        NaN        NaN     NaN     NaN   \n",
       "4  801464.0  1998.0  1899.0  32.0    1  29.651079  43.000000     NaN     NaN   \n",
       "\n",
       "   studygr  ... dayscpap abnhus     i    ii   iii    iv     v    vi vii IHSABR  \n",
       "0     23.0  ...      NaN    0.0   NaN   NaN   NaN   NaN   NaN   NaN NaN    nan  \n",
       "1     15.0  ...      NaN    0.0   NaN   NaN   NaN   NaN   NaN   NaN NaN    nan  \n",
       "2     15.0  ...      NaN    0.0   NaN   NaN   NaN   NaN   NaN   NaN NaN    nan  \n",
       "3     16.0  ...      NaN    0.0  1.59  2.84  4.23  5.57  6.42  4.83 NaN    0.0  \n",
       "4     11.0  ...      NaN    0.0  2.19  3.68  5.27  6.57  7.46  5.27 NaN    0.0  \n",
       "\n",
       "[5 rows x 151 columns]"
      ]
     },
     "execution_count": 16,
     "metadata": {},
     "output_type": "execute_result"
    }
   ],
   "source": [
    "df.head()"
   ]
  },
  {
   "cell_type": "code",
   "execution_count": 17,
   "metadata": {},
   "outputs": [
    {
     "data": {
      "text/html": [
       "<div>\n",
       "<style scoped>\n",
       "    .dataframe tbody tr th:only-of-type {\n",
       "        vertical-align: middle;\n",
       "    }\n",
       "\n",
       "    .dataframe tbody tr th {\n",
       "        vertical-align: top;\n",
       "    }\n",
       "\n",
       "    .dataframe thead th {\n",
       "        text-align: right;\n",
       "    }\n",
       "</style>\n",
       "<table border=\"1\" class=\"dataframe\">\n",
       "  <thead>\n",
       "    <tr style=\"text-align: right;\">\n",
       "      <th></th>\n",
       "      <th>codeid</th>\n",
       "      <th>dobyr</th>\n",
       "      <th>bw</th>\n",
       "      <th>ega</th>\n",
       "      <th>nsex</th>\n",
       "      <th>hc</th>\n",
       "      <th>length</th>\n",
       "      <th>apgar1</th>\n",
       "      <th>apgar2</th>\n",
       "      <th>studygr</th>\n",
       "      <th>...</th>\n",
       "      <th>dayscpap</th>\n",
       "      <th>abnhus</th>\n",
       "      <th>i</th>\n",
       "      <th>ii</th>\n",
       "      <th>iii</th>\n",
       "      <th>iv</th>\n",
       "      <th>v</th>\n",
       "      <th>vi</th>\n",
       "      <th>vii</th>\n",
       "      <th>IHSABR</th>\n",
       "    </tr>\n",
       "  </thead>\n",
       "  <tbody>\n",
       "    <tr>\n",
       "      <th>0</th>\n",
       "      <td>509362.0</td>\n",
       "      <td>1991.0</td>\n",
       "      <td>3346.0</td>\n",
       "      <td>40.0</td>\n",
       "      <td>0.0</td>\n",
       "      <td>33.098881</td>\n",
       "      <td>48.000000</td>\n",
       "      <td>9.0</td>\n",
       "      <td>9.0</td>\n",
       "      <td>23.0</td>\n",
       "      <td>...</td>\n",
       "      <td>2.0</td>\n",
       "      <td>0.0</td>\n",
       "      <td>1.50</td>\n",
       "      <td>2.35</td>\n",
       "      <td>4.35</td>\n",
       "      <td>5.50</td>\n",
       "      <td>6.78</td>\n",
       "      <td>8.15</td>\n",
       "      <td>9.95</td>\n",
       "      <td>1.0</td>\n",
       "    </tr>\n",
       "    <tr>\n",
       "      <th>1</th>\n",
       "      <td>959542.0</td>\n",
       "      <td>1993.0</td>\n",
       "      <td>3714.0</td>\n",
       "      <td>40.0</td>\n",
       "      <td>1.0</td>\n",
       "      <td>34.000000</td>\n",
       "      <td>53.299999</td>\n",
       "      <td>8.0</td>\n",
       "      <td>9.0</td>\n",
       "      <td>15.0</td>\n",
       "      <td>...</td>\n",
       "      <td>2.0</td>\n",
       "      <td>0.0</td>\n",
       "      <td>1.59</td>\n",
       "      <td>2.29</td>\n",
       "      <td>4.03</td>\n",
       "      <td>5.03</td>\n",
       "      <td>6.12</td>\n",
       "      <td>4.53</td>\n",
       "      <td>11.93</td>\n",
       "      <td>1.0</td>\n",
       "    </tr>\n",
       "    <tr>\n",
       "      <th>2</th>\n",
       "      <td>510083.0</td>\n",
       "      <td>1993.0</td>\n",
       "      <td>3459.0</td>\n",
       "      <td>40.0</td>\n",
       "      <td>0.0</td>\n",
       "      <td>33.000000</td>\n",
       "      <td>48.299999</td>\n",
       "      <td>9.0</td>\n",
       "      <td>9.0</td>\n",
       "      <td>15.0</td>\n",
       "      <td>...</td>\n",
       "      <td>1.0</td>\n",
       "      <td>0.0</td>\n",
       "      <td>1.59</td>\n",
       "      <td>2.74</td>\n",
       "      <td>4.58</td>\n",
       "      <td>5.77</td>\n",
       "      <td>6.82</td>\n",
       "      <td>5.23</td>\n",
       "      <td>10.45</td>\n",
       "      <td>1.0</td>\n",
       "    </tr>\n",
       "    <tr>\n",
       "      <th>3</th>\n",
       "      <td>504281.0</td>\n",
       "      <td>1998.0</td>\n",
       "      <td>3600.0</td>\n",
       "      <td>40.0</td>\n",
       "      <td>0.0</td>\n",
       "      <td>31.500000</td>\n",
       "      <td>50.000000</td>\n",
       "      <td>1.0</td>\n",
       "      <td>6.0</td>\n",
       "      <td>16.0</td>\n",
       "      <td>...</td>\n",
       "      <td>3.0</td>\n",
       "      <td>0.0</td>\n",
       "      <td>1.59</td>\n",
       "      <td>2.84</td>\n",
       "      <td>4.23</td>\n",
       "      <td>5.57</td>\n",
       "      <td>6.42</td>\n",
       "      <td>4.83</td>\n",
       "      <td>11.90</td>\n",
       "      <td>0.0</td>\n",
       "    </tr>\n",
       "    <tr>\n",
       "      <th>4</th>\n",
       "      <td>801464.0</td>\n",
       "      <td>1998.0</td>\n",
       "      <td>1899.0</td>\n",
       "      <td>32.0</td>\n",
       "      <td>1.0</td>\n",
       "      <td>29.651079</td>\n",
       "      <td>43.000000</td>\n",
       "      <td>9.0</td>\n",
       "      <td>9.0</td>\n",
       "      <td>11.0</td>\n",
       "      <td>...</td>\n",
       "      <td>1.0</td>\n",
       "      <td>0.0</td>\n",
       "      <td>2.19</td>\n",
       "      <td>3.68</td>\n",
       "      <td>5.27</td>\n",
       "      <td>6.57</td>\n",
       "      <td>7.46</td>\n",
       "      <td>5.27</td>\n",
       "      <td>9.07</td>\n",
       "      <td>0.0</td>\n",
       "    </tr>\n",
       "  </tbody>\n",
       "</table>\n",
       "<p>5 rows × 151 columns</p>\n",
       "</div>"
      ],
      "text/plain": [
       "     codeid   dobyr      bw   ega  nsex         hc     length  apgar1  apgar2  \\\n",
       "0  509362.0  1991.0  3346.0  40.0   0.0  33.098881  48.000000     9.0     9.0   \n",
       "1  959542.0  1993.0  3714.0  40.0   1.0  34.000000  53.299999     8.0     9.0   \n",
       "2  510083.0  1993.0  3459.0  40.0   0.0  33.000000  48.299999     9.0     9.0   \n",
       "3  504281.0  1998.0  3600.0  40.0   0.0  31.500000  50.000000     1.0     6.0   \n",
       "4  801464.0  1998.0  1899.0  32.0   1.0  29.651079  43.000000     9.0     9.0   \n",
       "\n",
       "   studygr  ...  dayscpap  abnhus     i    ii   iii    iv     v    vi    vii  \\\n",
       "0     23.0  ...       2.0     0.0  1.50  2.35  4.35  5.50  6.78  8.15   9.95   \n",
       "1     15.0  ...       2.0     0.0  1.59  2.29  4.03  5.03  6.12  4.53  11.93   \n",
       "2     15.0  ...       1.0     0.0  1.59  2.74  4.58  5.77  6.82  5.23  10.45   \n",
       "3     16.0  ...       3.0     0.0  1.59  2.84  4.23  5.57  6.42  4.83  11.90   \n",
       "4     11.0  ...       1.0     0.0  2.19  3.68  5.27  6.57  7.46  5.27   9.07   \n",
       "\n",
       "   IHSABR  \n",
       "0     1.0  \n",
       "1     1.0  \n",
       "2     1.0  \n",
       "3     0.0  \n",
       "4     0.0  \n",
       "\n",
       "[5 rows x 151 columns]"
      ]
     },
     "execution_count": 17,
     "metadata": {},
     "output_type": "execute_result"
    }
   ],
   "source": [
    "df[categorical_variables] = df[categorical_variables].apply(lambda series: pd.Series(LabelEncoder().fit_transform(series[series.notnull()]),\n",
    "                                                                                  index=series[series.notnull()].index))\n",
    "\n",
    "imputer = KNNImputer(n_neighbors=1)\n",
    "df = pd.DataFrame(imputer.fit_transform(df), columns=df.columns)\n",
    "df.head()"
   ]
  },
  {
   "cell_type": "markdown",
   "metadata": {},
   "source": [
    "# 6. Scaler"
   ]
  },
  {
   "cell_type": "code",
   "execution_count": 18,
   "metadata": {},
   "outputs": [
    {
     "data": {
      "text/html": [
       "<div>\n",
       "<style scoped>\n",
       "    .dataframe tbody tr th:only-of-type {\n",
       "        vertical-align: middle;\n",
       "    }\n",
       "\n",
       "    .dataframe tbody tr th {\n",
       "        vertical-align: top;\n",
       "    }\n",
       "\n",
       "    .dataframe thead th {\n",
       "        text-align: right;\n",
       "    }\n",
       "</style>\n",
       "<table border=\"1\" class=\"dataframe\">\n",
       "  <thead>\n",
       "    <tr style=\"text-align: right;\">\n",
       "      <th></th>\n",
       "      <th>codeid</th>\n",
       "      <th>dobyr</th>\n",
       "      <th>bw</th>\n",
       "      <th>ega</th>\n",
       "      <th>nsex</th>\n",
       "      <th>hc</th>\n",
       "      <th>length</th>\n",
       "      <th>apgar1</th>\n",
       "      <th>apgar2</th>\n",
       "      <th>studygr</th>\n",
       "      <th>...</th>\n",
       "      <th>dayscpap</th>\n",
       "      <th>abnhus</th>\n",
       "      <th>i</th>\n",
       "      <th>ii</th>\n",
       "      <th>iii</th>\n",
       "      <th>iv</th>\n",
       "      <th>v</th>\n",
       "      <th>vi</th>\n",
       "      <th>vii</th>\n",
       "      <th>IHSABR</th>\n",
       "    </tr>\n",
       "  </thead>\n",
       "  <tbody>\n",
       "    <tr>\n",
       "      <th>0</th>\n",
       "      <td>0.069236</td>\n",
       "      <td>-1.988567</td>\n",
       "      <td>1.093294</td>\n",
       "      <td>1.274613</td>\n",
       "      <td>-1.061172</td>\n",
       "      <td>0.478766</td>\n",
       "      <td>0.529929</td>\n",
       "      <td>0.844519</td>\n",
       "      <td>0.674746</td>\n",
       "      <td>2.442015</td>\n",
       "      <td>...</td>\n",
       "      <td>-0.385646</td>\n",
       "      <td>-0.458822</td>\n",
       "      <td>-0.763876</td>\n",
       "      <td>-1.313841</td>\n",
       "      <td>-0.647198</td>\n",
       "      <td>-0.709585</td>\n",
       "      <td>-0.462692</td>\n",
       "      <td>0.669440</td>\n",
       "      <td>-0.148757</td>\n",
       "      <td>0.832477</td>\n",
       "    </tr>\n",
       "    <tr>\n",
       "      <th>1</th>\n",
       "      <td>1.626506</td>\n",
       "      <td>-1.565274</td>\n",
       "      <td>1.513081</td>\n",
       "      <td>1.274613</td>\n",
       "      <td>0.942354</td>\n",
       "      <td>0.768663</td>\n",
       "      <td>1.590646</td>\n",
       "      <td>0.310391</td>\n",
       "      <td>0.674746</td>\n",
       "      <td>1.024737</td>\n",
       "      <td>...</td>\n",
       "      <td>-0.385646</td>\n",
       "      <td>-0.458822</td>\n",
       "      <td>-0.259061</td>\n",
       "      <td>-1.437530</td>\n",
       "      <td>-1.407525</td>\n",
       "      <td>-1.517332</td>\n",
       "      <td>-1.575526</td>\n",
       "      <td>-1.399185</td>\n",
       "      <td>1.554453</td>\n",
       "      <td>0.832477</td>\n",
       "    </tr>\n",
       "    <tr>\n",
       "      <th>2</th>\n",
       "      <td>0.071730</td>\n",
       "      <td>-1.565274</td>\n",
       "      <td>1.222196</td>\n",
       "      <td>1.274613</td>\n",
       "      <td>-1.061172</td>\n",
       "      <td>0.446955</td>\n",
       "      <td>0.589970</td>\n",
       "      <td>0.844519</td>\n",
       "      <td>0.674746</td>\n",
       "      <td>1.024737</td>\n",
       "      <td>...</td>\n",
       "      <td>-0.506350</td>\n",
       "      <td>-0.458822</td>\n",
       "      <td>-0.259061</td>\n",
       "      <td>-0.509862</td>\n",
       "      <td>-0.100712</td>\n",
       "      <td>-0.245561</td>\n",
       "      <td>-0.395248</td>\n",
       "      <td>-0.999175</td>\n",
       "      <td>0.281347</td>\n",
       "      <td>0.832477</td>\n",
       "    </tr>\n",
       "    <tr>\n",
       "      <th>3</th>\n",
       "      <td>0.051660</td>\n",
       "      <td>-0.507042</td>\n",
       "      <td>1.383038</td>\n",
       "      <td>1.274613</td>\n",
       "      <td>-1.061172</td>\n",
       "      <td>-0.035605</td>\n",
       "      <td>0.930200</td>\n",
       "      <td>-3.428501</td>\n",
       "      <td>-2.052119</td>\n",
       "      <td>1.201897</td>\n",
       "      <td>...</td>\n",
       "      <td>-0.264941</td>\n",
       "      <td>-0.458822</td>\n",
       "      <td>-0.259061</td>\n",
       "      <td>-0.303713</td>\n",
       "      <td>-0.932320</td>\n",
       "      <td>-0.589283</td>\n",
       "      <td>-1.069693</td>\n",
       "      <td>-1.227752</td>\n",
       "      <td>1.528647</td>\n",
       "      <td>-1.201234</td>\n",
       "    </tr>\n",
       "    <tr>\n",
       "      <th>4</th>\n",
       "      <td>1.079680</td>\n",
       "      <td>-0.507042</td>\n",
       "      <td>-0.557336</td>\n",
       "      <td>-0.885199</td>\n",
       "      <td>0.942354</td>\n",
       "      <td>-0.630416</td>\n",
       "      <td>-0.470747</td>\n",
       "      <td>0.844519</td>\n",
       "      <td>0.674746</td>\n",
       "      <td>0.316098</td>\n",
       "      <td>...</td>\n",
       "      <td>-0.506350</td>\n",
       "      <td>-0.458822</td>\n",
       "      <td>3.106376</td>\n",
       "      <td>1.427934</td>\n",
       "      <td>1.538744</td>\n",
       "      <td>1.129327</td>\n",
       "      <td>0.683864</td>\n",
       "      <td>-0.976317</td>\n",
       "      <td>-0.905739</td>\n",
       "      <td>-1.201234</td>\n",
       "    </tr>\n",
       "  </tbody>\n",
       "</table>\n",
       "<p>5 rows × 151 columns</p>\n",
       "</div>"
      ],
      "text/plain": [
       "     codeid     dobyr        bw       ega      nsex        hc    length  \\\n",
       "0  0.069236 -1.988567  1.093294  1.274613 -1.061172  0.478766  0.529929   \n",
       "1  1.626506 -1.565274  1.513081  1.274613  0.942354  0.768663  1.590646   \n",
       "2  0.071730 -1.565274  1.222196  1.274613 -1.061172  0.446955  0.589970   \n",
       "3  0.051660 -0.507042  1.383038  1.274613 -1.061172 -0.035605  0.930200   \n",
       "4  1.079680 -0.507042 -0.557336 -0.885199  0.942354 -0.630416 -0.470747   \n",
       "\n",
       "     apgar1    apgar2   studygr  ...  dayscpap    abnhus         i        ii  \\\n",
       "0  0.844519  0.674746  2.442015  ... -0.385646 -0.458822 -0.763876 -1.313841   \n",
       "1  0.310391  0.674746  1.024737  ... -0.385646 -0.458822 -0.259061 -1.437530   \n",
       "2  0.844519  0.674746  1.024737  ... -0.506350 -0.458822 -0.259061 -0.509862   \n",
       "3 -3.428501 -2.052119  1.201897  ... -0.264941 -0.458822 -0.259061 -0.303713   \n",
       "4  0.844519  0.674746  0.316098  ... -0.506350 -0.458822  3.106376  1.427934   \n",
       "\n",
       "        iii        iv         v        vi       vii    IHSABR  \n",
       "0 -0.647198 -0.709585 -0.462692  0.669440 -0.148757  0.832477  \n",
       "1 -1.407525 -1.517332 -1.575526 -1.399185  1.554453  0.832477  \n",
       "2 -0.100712 -0.245561 -0.395248 -0.999175  0.281347  0.832477  \n",
       "3 -0.932320 -0.589283 -1.069693 -1.227752  1.528647 -1.201234  \n",
       "4  1.538744  1.129327  0.683864 -0.976317 -0.905739 -1.201234  \n",
       "\n",
       "[5 rows x 151 columns]"
      ]
     },
     "execution_count": 18,
     "metadata": {},
     "output_type": "execute_result"
    }
   ],
   "source": [
    "## Standard\n",
    "stdScaler = StandardScaler()\n",
    "df_std = pd.DataFrame(stdScaler.fit_transform(df), columns = df.columns)\n",
    "df_std.head()"
   ]
  },
  {
   "cell_type": "markdown",
   "metadata": {},
   "source": [
    "---"
   ]
  },
  {
   "cell_type": "code",
   "execution_count": 19,
   "metadata": {},
   "outputs": [
    {
     "data": {
      "text/plain": [
       "Index(['meii25', 'moii25'], dtype='object')"
      ]
     },
     "execution_count": 19,
     "metadata": {},
     "output_type": "execute_result"
    }
   ],
   "source": [
    "df.columns[df.columns.str.contains('25')]"
   ]
  },
  {
   "cell_type": "code",
   "execution_count": 20,
   "metadata": {},
   "outputs": [
    {
     "data": {
      "text/plain": [
       "((2934, 148), (2934,), (2934,))"
      ]
     },
     "execution_count": 20,
     "metadata": {},
     "output_type": "execute_result"
    }
   ],
   "source": [
    "X, y, y1 = df_std.drop(['codeid','moii25','meii25'],axis=1), df_std['moii25'], df_std['meii25']\n",
    "X.shape, y.shape, y1.shape"
   ]
  },
  {
   "cell_type": "markdown",
   "metadata": {},
   "source": [
    "---\n",
    "\n",
    "## Traditional Statistical Approach"
   ]
  },
  {
   "cell_type": "code",
   "execution_count": 21,
   "metadata": {},
   "outputs": [],
   "source": [
    "from sklearn.linear_model import LinearRegression"
   ]
  },
  {
   "cell_type": "code",
   "execution_count": 22,
   "metadata": {},
   "outputs": [
    {
     "name": "stdout",
     "output_type": "stream",
     "text": [
      "The Linear Regression results for motor developmental scale 'moii25':\n",
      "\n",
      "The Mean Squared Error:  0.662028530765644\n",
      "The R2 Accuracy:\t 0.27159768902593406\n"
     ]
    }
   ],
   "source": [
    "print(\"The Linear Regression results for motor developmental scale 'moii25':\\n\")\n",
    "X_train, X_test, y_train, y_test = train_test_split(X, y, test_size = 0.2, random_state = 123, shuffle=1)\n",
    "lr = LinearRegression().fit(X_train, y_train)\n",
    "y_hat = lr.predict(X_test)\n",
    "print(\"The Mean Squared Error: \",metrics.mean_squared_error(y_test, y_hat))\n",
    "print(\"The R2 Accuracy:\\t\", metrics.r2_score(y_test,y_hat))"
   ]
  },
  {
   "cell_type": "code",
   "execution_count": 23,
   "metadata": {},
   "outputs": [
    {
     "name": "stdout",
     "output_type": "stream",
     "text": [
      "The Linear Regression results for mental developmental scale 'meii25':\n",
      "\n",
      "The Mean Squared Error:  0.49880154527812043\n",
      "The R2 Accuracy:\t 0.5074343115952573\n"
     ]
    }
   ],
   "source": [
    "print(\"The Linear Regression results for mental developmental scale 'meii25':\\n\")\n",
    "X_train, X_test, y_train, y_test = train_test_split(X, y1, test_size = 0.2, random_state = 123, shuffle=1)\n",
    "lr = LinearRegression().fit(X_train, y_train)\n",
    "y_hat = lr.predict(X_test)\n",
    "print(\"The Mean Squared Error: \",metrics.mean_squared_error(y_test, y_hat))\n",
    "print(\"The R2 Accuracy:\\t\", metrics.r2_score(y_test,y_hat))"
   ]
  },
  {
   "cell_type": "markdown",
   "metadata": {},
   "source": [
    "## Machine Learning Approaches\n",
    "\n",
    "### 1. Random Forest"
   ]
  },
  {
   "cell_type": "code",
   "execution_count": 24,
   "metadata": {},
   "outputs": [],
   "source": [
    "from sklearn.model_selection import KFold\n",
    "from sklearn.model_selection import cross_val_score, cross_val_predict"
   ]
  },
  {
   "cell_type": "code",
   "execution_count": 25,
   "metadata": {},
   "outputs": [],
   "source": [
    "# y_hat = cross_val_predict(rf, X, y, cv=10)\n",
    "# metrics.r2_score(y,y_hat)"
   ]
  },
  {
   "cell_type": "code",
   "execution_count": 26,
   "metadata": {},
   "outputs": [
    {
     "name": "stdout",
     "output_type": "stream",
     "text": [
      "The Random Forest results for motor developmental scale 'moii25':\n",
      "\n",
      "[0.33623248 0.36786907 0.42118609 0.420229   0.40260544 0.2981607\n",
      " 0.38136482 0.42459795 0.34513903 0.38922498] \n",
      "\n",
      "[0.65740125 0.63397546 0.53372085 0.58164582 0.61653574 0.69501216\n",
      " 0.6432126  0.60134727 0.64982928 0.58606378] \n",
      "\n",
      "The Mean Squared Error:  0.37866095763668073\n",
      "The R2 Accuracy:\t 0.6198744213476256\n"
     ]
    }
   ],
   "source": [
    "print(\"The Random Forest results for motor developmental scale 'moii25':\\n\")\n",
    "\n",
    "cv = KFold(n_splits=10, random_state=1, shuffle=True)\n",
    "rf = RandomForestRegressor(n_estimators = 100,n_jobs = -1,oob_score = True,bootstrap = True,random_state = 42)\n",
    "cv_scores_mse = cross_val_score(rf, X, y, scoring='neg_mean_squared_error', cv=cv)\n",
    "cv_scores_r2 = cross_val_score(rf, X, y, scoring='r2', cv=cv)\n",
    "\n",
    "print(-cv_scores_mse,'\\n')\n",
    "print(cv_scores_r2,'\\n')\n",
    "print(\"The Mean Squared Error: \", -np.mean(cv_scores_mse))\n",
    "print(\"The R2 Accuracy:\\t\", np.mean(cv_scores_r2))"
   ]
  },
  {
   "cell_type": "code",
   "execution_count": 27,
   "metadata": {},
   "outputs": [
    {
     "name": "stdout",
     "output_type": "stream",
     "text": [
      "The Random Forest results for mental developmental scale 'meii25':\n",
      "\n",
      "[0.20640263 0.27971706 0.27178413 0.2856561  0.27507476 0.23113447\n",
      " 0.2685832  0.40782256 0.2317181  0.22016849] \n",
      "\n",
      "[0.788057   0.74619447 0.71127771 0.68612612 0.74719232 0.76903196\n",
      " 0.75284936 0.58751369 0.74265247 0.77008819] \n",
      "\n",
      "The Mean Squared Error:  0.26780615015479103\n",
      "The R2 Accuracy:\t 0.7300983289771743\n"
     ]
    }
   ],
   "source": [
    "print(\"The Random Forest results for mental developmental scale 'meii25':\\n\")\n",
    "cv = KFold(n_splits=10, random_state=1, shuffle=True)\n",
    "rf = RandomForestRegressor(n_estimators = 100,n_jobs = -1,oob_score = True,bootstrap = True,random_state = 42)\n",
    "cv_scores_mse = cross_val_score(rf, X, y1, scoring='neg_mean_squared_error', cv=cv)\n",
    "cv_scores_r2 = cross_val_score(rf, X, y1, scoring='r2', cv=cv)\n",
    "\n",
    "print(-cv_scores_mse,'\\n')\n",
    "print(cv_scores_r2,'\\n')\n",
    "print(\"The Mean Squared Error: \", -np.mean(cv_scores_mse))\n",
    "print(\"The R2 Accuracy:\\t\", np.mean(cv_scores_r2))"
   ]
  },
  {
   "cell_type": "markdown",
   "metadata": {},
   "source": [
    "### 2. AdaBoost Regressor"
   ]
  },
  {
   "cell_type": "code",
   "execution_count": 30,
   "metadata": {},
   "outputs": [
    {
     "name": "stdout",
     "output_type": "stream",
     "text": [
      "The AdABoost Regressor results for motor developmental scale 'moii25':\n",
      "\n",
      "[0.63689686 0.70618478 0.64526762 0.71433372 0.68193205 0.65374636\n",
      " 0.76461914 0.71010922 0.66107961 0.68338865] \n",
      "\n",
      "[0.35104406 0.2973561  0.28564869 0.28885322 0.35048924 0.33128448\n",
      " 0.28465749 0.33328227 0.32928268 0.27322416] \n",
      "\n",
      "The Mean Squared Error:  0.6857558008545676\n",
      "The R2 Accuracy:\t 0.31251223838676223\n"
     ]
    }
   ],
   "source": [
    "print(\"The AdABoost Regressor results for motor developmental scale 'moii25':\\n\")\n",
    "\n",
    "cv = KFold(n_splits=10, random_state=1, shuffle=True)\n",
    "ada = AdaBoostRegressor(n_estimators = 100,random_state = 42)\n",
    "cv_scores_mse = cross_val_score(ada, X, y, scoring='neg_mean_squared_error', cv=cv)\n",
    "cv_scores_r2 = cross_val_score(ada, X, y, scoring='r2', cv=cv)\n",
    "\n",
    "print(-cv_scores_mse,'\\n')\n",
    "print(cv_scores_r2,'\\n')\n",
    "print(\"The Mean Squared Error: \", -np.mean(cv_scores_mse))\n",
    "print(\"The R2 Accuracy:\\t\", np.mean(cv_scores_r2))"
   ]
  },
  {
   "cell_type": "code",
   "execution_count": 31,
   "metadata": {},
   "outputs": [
    {
     "name": "stdout",
     "output_type": "stream",
     "text": [
      "The AdABoost Regressor results for mental developmental scale 'meii25':\n",
      "\n",
      "[0.48840999 0.57963094 0.5205192  0.51376891 0.56771389 0.57474196\n",
      " 0.57473203 0.61972114 0.50568031 0.51597401] \n",
      "\n",
      "[0.49847986 0.47406304 0.44704094 0.43547979 0.4782421  0.42567189\n",
      " 0.47113078 0.37319188 0.43838838 0.4611921 ] \n",
      "\n",
      "The Mean Squared Error:  0.5460892401332177\n",
      "The R2 Accuracy:\t 0.45028807559117084\n"
     ]
    }
   ],
   "source": [
    "print(\"The AdABoost Regressor results for mental developmental scale 'meii25':\\n\")\n",
    "\n",
    "cv = KFold(n_splits=10, random_state=1, shuffle=True)\n",
    "ada = AdaBoostRegressor(n_estimators = 100,random_state = 42)\n",
    "cv_scores_mse = cross_val_score(ada, X, y1, scoring='neg_mean_squared_error', cv=cv)\n",
    "cv_scores_r2 = cross_val_score(ada, X, y1, scoring='r2', cv=cv)\n",
    "\n",
    "print(-cv_scores_mse,'\\n')\n",
    "print(cv_scores_r2,'\\n')\n",
    "print(\"The Mean Squared Error: \", -np.mean(cv_scores_mse))\n",
    "print(\"The R2 Accuracy:\\t\", np.mean(cv_scores_r2))"
   ]
  },
  {
   "cell_type": "markdown",
   "metadata": {},
   "source": [
    "### 3. XGBoost Regressor"
   ]
  },
  {
   "cell_type": "code",
   "execution_count": 32,
   "metadata": {},
   "outputs": [
    {
     "name": "stdout",
     "output_type": "stream",
     "text": [
      "The XGBoost Regressor results for motor developmental scale 'moii25':\n",
      "\n",
      "[0.36189746 0.37510763 0.44282038 0.47691828 0.41188105 0.33995726\n",
      " 0.37173332 0.47560898 0.35982357 0.458656  ] \n",
      "\n",
      "[0.63125033 0.6267732  0.50977035 0.52520945 0.60770112 0.65225856\n",
      " 0.6522234  0.55345329 0.63493065 0.51222471] \n",
      "\n",
      "The Mean Squared Error:  0.40744039344916844\n",
      "The R2 Accuracy:\t 0.5905795061376737\n"
     ]
    }
   ],
   "source": [
    "print(\"The XGBoost Regressor results for motor developmental scale 'moii25':\\n\")\n",
    "\n",
    "cv = KFold(n_splits=10, random_state=1, shuffle=True)\n",
    "xgb = XGBRegressor(n_estimators = 100,random_state = 42)\n",
    "cv_scores_mse = cross_val_score(xgb, X, y, scoring='neg_mean_squared_error', cv=cv)\n",
    "cv_scores_r2 = cross_val_score(xgb, X, y, scoring='r2', cv=cv)\n",
    "\n",
    "print(-cv_scores_mse,'\\n')\n",
    "print(cv_scores_r2,'\\n')\n",
    "print(\"The Mean Squared Error: \", -np.mean(cv_scores_mse))\n",
    "print(\"The R2 Accuracy:\\t\", np.mean(cv_scores_r2))"
   ]
  },
  {
   "cell_type": "code",
   "execution_count": 33,
   "metadata": {},
   "outputs": [
    {
     "name": "stdout",
     "output_type": "stream",
     "text": [
      "The XGBoost Regressor results for mental developmental scale 'meii25':\n",
      "\n",
      "[0.24887462 0.27678432 0.27225604 0.3351604  0.27997969 0.26785766\n",
      " 0.29575516 0.43742071 0.25096609 0.22856502] \n",
      "\n",
      "[0.74444496 0.74885553 0.71077639 0.63173168 0.74268444 0.73233521\n",
      " 0.72784569 0.55757705 0.72127554 0.76132007] \n",
      "\n",
      "The Mean Squared Error:  0.28936197216874643\n",
      "The R2 Accuracy:\t 0.7078846557485692\n"
     ]
    }
   ],
   "source": [
    "print(\"The XGBoost Regressor results for mental developmental scale 'meii25':\\n\")\n",
    "\n",
    "cv = KFold(n_splits=10, random_state=1, shuffle=True)\n",
    "xgb = XGBRegressor(n_estimators = 100,random_state = 42)\n",
    "cv_scores_mse = cross_val_score(xgb, X, y1, scoring='neg_mean_squared_error', cv=cv)\n",
    "cv_scores_r2 = cross_val_score(xgb, X, y1, scoring='r2', cv=cv)\n",
    "\n",
    "print(-cv_scores_mse,'\\n')\n",
    "print(cv_scores_r2,'\\n')\n",
    "print(\"The Mean Squared Error: \", -np.mean(cv_scores_mse))\n",
    "print(\"The R2 Accuracy:\\t\", np.mean(cv_scores_r2))"
   ]
  },
  {
   "cell_type": "markdown",
   "metadata": {},
   "source": [
    "---"
   ]
  },
  {
   "cell_type": "code",
   "execution_count": 28,
   "metadata": {},
   "outputs": [
    {
     "data": {
      "text/html": [
       "<div>\n",
       "<style scoped>\n",
       "    .dataframe tbody tr th:only-of-type {\n",
       "        vertical-align: middle;\n",
       "    }\n",
       "\n",
       "    .dataframe tbody tr th {\n",
       "        vertical-align: top;\n",
       "    }\n",
       "\n",
       "    .dataframe thead th {\n",
       "        text-align: right;\n",
       "    }\n",
       "</style>\n",
       "<table border=\"1\" class=\"dataframe\">\n",
       "  <thead>\n",
       "    <tr style=\"text-align: right;\">\n",
       "      <th></th>\n",
       "      <th>Rf_moii25</th>\n",
       "      <th>XGB_moii25</th>\n",
       "      <th>LSR_moii25</th>\n",
       "      <th>Rf_meii25</th>\n",
       "      <th>XGB_meii25</th>\n",
       "      <th>LSR_meii25</th>\n",
       "    </tr>\n",
       "  </thead>\n",
       "  <tbody>\n",
       "    <tr>\n",
       "      <th>0</th>\n",
       "      <td>0.657401</td>\n",
       "      <td>0.631250</td>\n",
       "      <td>0.271592</td>\n",
       "      <td>0.788057</td>\n",
       "      <td>0.744445</td>\n",
       "      <td>0.507434</td>\n",
       "    </tr>\n",
       "    <tr>\n",
       "      <th>1</th>\n",
       "      <td>0.633975</td>\n",
       "      <td>0.626773</td>\n",
       "      <td>0.271592</td>\n",
       "      <td>0.746194</td>\n",
       "      <td>0.748856</td>\n",
       "      <td>0.507434</td>\n",
       "    </tr>\n",
       "    <tr>\n",
       "      <th>2</th>\n",
       "      <td>0.533721</td>\n",
       "      <td>0.509770</td>\n",
       "      <td>0.271592</td>\n",
       "      <td>0.711278</td>\n",
       "      <td>0.710776</td>\n",
       "      <td>0.507434</td>\n",
       "    </tr>\n",
       "    <tr>\n",
       "      <th>3</th>\n",
       "      <td>0.581646</td>\n",
       "      <td>0.525209</td>\n",
       "      <td>0.271592</td>\n",
       "      <td>0.686126</td>\n",
       "      <td>0.631732</td>\n",
       "      <td>0.507434</td>\n",
       "    </tr>\n",
       "    <tr>\n",
       "      <th>4</th>\n",
       "      <td>0.616536</td>\n",
       "      <td>0.607701</td>\n",
       "      <td>0.271592</td>\n",
       "      <td>0.747192</td>\n",
       "      <td>0.742684</td>\n",
       "      <td>0.507434</td>\n",
       "    </tr>\n",
       "    <tr>\n",
       "      <th>5</th>\n",
       "      <td>0.695012</td>\n",
       "      <td>0.652259</td>\n",
       "      <td>0.271592</td>\n",
       "      <td>0.769032</td>\n",
       "      <td>0.732335</td>\n",
       "      <td>0.507434</td>\n",
       "    </tr>\n",
       "    <tr>\n",
       "      <th>6</th>\n",
       "      <td>0.643213</td>\n",
       "      <td>0.652223</td>\n",
       "      <td>0.271592</td>\n",
       "      <td>0.752849</td>\n",
       "      <td>0.727846</td>\n",
       "      <td>0.507434</td>\n",
       "    </tr>\n",
       "    <tr>\n",
       "      <th>7</th>\n",
       "      <td>0.601347</td>\n",
       "      <td>0.553453</td>\n",
       "      <td>0.271592</td>\n",
       "      <td>0.587514</td>\n",
       "      <td>0.557577</td>\n",
       "      <td>0.507434</td>\n",
       "    </tr>\n",
       "    <tr>\n",
       "      <th>8</th>\n",
       "      <td>0.649829</td>\n",
       "      <td>0.634931</td>\n",
       "      <td>0.271592</td>\n",
       "      <td>0.742652</td>\n",
       "      <td>0.721276</td>\n",
       "      <td>0.507434</td>\n",
       "    </tr>\n",
       "    <tr>\n",
       "      <th>9</th>\n",
       "      <td>0.586064</td>\n",
       "      <td>0.512225</td>\n",
       "      <td>0.271592</td>\n",
       "      <td>0.770088</td>\n",
       "      <td>0.761320</td>\n",
       "      <td>0.507434</td>\n",
       "    </tr>\n",
       "  </tbody>\n",
       "</table>\n",
       "</div>"
      ],
      "text/plain": [
       "   Rf_moii25  XGB_moii25  LSR_moii25  Rf_meii25  XGB_meii25  LSR_meii25\n",
       "0   0.657401    0.631250    0.271592   0.788057    0.744445    0.507434\n",
       "1   0.633975    0.626773    0.271592   0.746194    0.748856    0.507434\n",
       "2   0.533721    0.509770    0.271592   0.711278    0.710776    0.507434\n",
       "3   0.581646    0.525209    0.271592   0.686126    0.631732    0.507434\n",
       "4   0.616536    0.607701    0.271592   0.747192    0.742684    0.507434\n",
       "5   0.695012    0.652259    0.271592   0.769032    0.732335    0.507434\n",
       "6   0.643213    0.652223    0.271592   0.752849    0.727846    0.507434\n",
       "7   0.601347    0.553453    0.271592   0.587514    0.557577    0.507434\n",
       "8   0.649829    0.634931    0.271592   0.742652    0.721276    0.507434\n",
       "9   0.586064    0.512225    0.271592   0.770088    0.761320    0.507434"
      ]
     },
     "execution_count": 28,
     "metadata": {},
     "output_type": "execute_result"
    }
   ],
   "source": [
    "xx = pd.DataFrame()\n",
    "xx['Rf_moii25']  = [0.65740125, 0.63397546, 0.53372085, 0.58164582, 0.61653574, 0.69501216, 0.6432126, 0.60134727, 0.64982928, 0.58606378] \n",
    "# xx['ABR_moii25'] = [0.36208929, 0.28661554, 0.29513724, 0.29773388, 0.30924853, 0.3585053, 0.28666688, 0.33631373, 0.33050797, 0.25978952]\n",
    "xx['XGB_moii25'] = [0.63125033, 0.6267732,  0.50977035, 0.52520945, 0.60770112, 0.65225856, 0.6522234,  0.55345329, 0.63493065, 0.51222471]\n",
    "xx['LSR_moii25'] = [0.271592, 0.271592, 0.271592, 0.271592, 0.271592, 0.271592, 0.271592, 0.271592, 0.271592, 0.271592]\n",
    "\n",
    "xx['Rf_meii25']  = [0.788057, 0.74619447, 0.71127771, 0.68612612, 0.74719232, 0.76903196, 0.75284936, 0.58751369, 0.74265247, 0.77008819]\n",
    "# xx['ABR_meii25'] = [0.49847986, 0.47406304, 0.44704094, 0.43547979, 0.4782421,  0.42567189, 0.47113078, 0.37319188, 0.43838838, 0.4611921 ]\n",
    "xx['XGB_meii25'] = [0.74444496, 0.74885553, 0.71077639, 0.63173168, 0.74268444, 0.73233521, 0.72784569, 0.55757705, 0.72127554, 0.76132007]\n",
    "xx['LSR_meii25'] = [0.507434, 0.507434, 0.507434, 0.507434, 0.507434, 0.507434, 0.507434, 0.507434, 0.507434, 0.507434]\n",
    "xx"
   ]
  },
  {
   "cell_type": "code",
   "execution_count": 29,
   "metadata": {},
   "outputs": [
    {
     "data": {
      "text/plain": [
       "Rf_moii25     0.619874\n",
       "XGB_moii25    0.590580\n",
       "LSR_moii25    0.271592\n",
       "Rf_meii25     0.730098\n",
       "XGB_meii25    0.707885\n",
       "LSR_meii25    0.507434\n",
       "dtype: float64"
      ]
     },
     "execution_count": 29,
     "metadata": {},
     "output_type": "execute_result"
    }
   ],
   "source": [
    "xx.mean()"
   ]
  },
  {
   "cell_type": "code",
   "execution_count": 36,
   "metadata": {},
   "outputs": [
    {
     "data": {
      "image/png": "[encoded data removed]",
      "text/plain": [
       "<Figure size 360x288 with 1 Axes>"
      ]
     },
     "metadata": {},
     "output_type": "display_data"
    }
   ],
   "source": [
    "sns.set_style(\"white\")\n",
    "# plt.scatter(x = ['Rf_meii25', 'XGB_meii25', 'LSR_meii25'], y = [ 0.26834, 0.29343, 0.49846], c='#8B0000', label='MSE',\n",
    "#             marker='x')\n",
    "# plt.legend(loc='best')\n",
    "bb = sns.boxenplot(data =xx[['Rf_meii25', 'XGB_meii25', 'LSR_meii25']])\n",
    "plt.title('Target value: \"meii25\" prediction comparisons',fontsize=16,color='black')\n",
    "bb.set_xticklabels(rotation=30,labels=['73%\\nRandom Forest','71%\\nXGBoost','51%\\nLeast Squares'],fontsize=14,color='black')\n",
    "# bb.text(1,0.6, \"%45\", horizontalalignment='center', size='medium', color='black')\n",
    "# sns.set(rc={'figure.figsize':(5,4)})\n",
    "plt.ylabel('$R^2$',fontsize=15)\n",
    "plt.tight_layout()\n",
    "plt.savefig('meii25-allFeature-comparison.png')"
   ]
  },
  {
   "cell_type": "code",
   "execution_count": 37,
   "metadata": {},
   "outputs": [
    {
     "data": {
      "image/png": "[encoded data removed]",
      "text/plain": [
       "<Figure size 360x288 with 1 Axes>"
      ]
     },
     "metadata": {},
     "output_type": "display_data"
    }
   ],
   "source": [
    "sns.set_style(\"white\")\n",
    "# plt.scatter(x = ['Rf_moii25', 'XGB_moii25','LSR_moii25'], y = [ 0.37757, 0.403049, 0.657491], c='#8B0000', label='MSE',\n",
    "#             marker='x')\n",
    "# plt.legend(loc='lower left')\n",
    "aa = sns.boxenplot(data =xx[['Rf_moii25', 'XGB_moii25', 'LSR_moii25']])\n",
    "plt.title('Target value: \"moii25\" prediction comparisons',fontsize=16,color='black')\n",
    "aa.set_xticklabels(rotation=30,labels=['63%\\nRandom Forest','59%\\nXGBoost','27%\\nLeast Squares'],fontsize=14,color='black')\n",
    "# sns.set(rc={'figure.figsize':(5,4)})\n",
    "plt.tight_layout()\n",
    "plt.savefig('moii25-allFeature-comparison.png')"
   ]
  },
  {
   "cell_type": "markdown",
   "metadata": {},
   "source": [
    "# 8. Feature Selection"
   ]
  },
  {
   "cell_type": "code",
   "execution_count": 28,
   "metadata": {},
   "outputs": [],
   "source": [
    "def feature_importance(X,y,method):\n",
    "    if method == \"lr\":\n",
    "        model = LinearRegression()\n",
    "        model.fit(X,y)\n",
    "        features = X.columns\n",
    "        importances = model.coef_\n",
    "        model = pd.DataFrame([features,importances]).T\n",
    "        model.columns = ['Variable', 'Importance']\n",
    "        model.sort_values(by='Importance',inplace=True, ascending=False)\n",
    "        model.reset_index(drop=True, inplace=True)\n",
    "        return model\n",
    "    elif method == \"rf\":\n",
    "        model = RandomForestRegressor(random_state=42, n_jobs=-1)\n",
    "    elif method == \"abr\":\n",
    "        model = AdaBoostRegressor(random_state=42,learning_rate=1)\n",
    "    elif method == \"xgb\":\n",
    "        model = XGBRegressor(random_state=42,learning_rate=1)\n",
    "    model.fit(X,y)\n",
    "    features = X.columns\n",
    "    importances = model.feature_importances_\n",
    "    model = pd.DataFrame([features,importances]).T\n",
    "    model.columns = ['Variable', 'Importance']\n",
    "    model.sort_values(by='Importance',inplace=True, ascending=False)\n",
    "    model.reset_index(drop=True, inplace=True)\n",
    "    return model"
   ]
  },
  {
   "cell_type": "code",
   "execution_count": 29,
   "metadata": {},
   "outputs": [
    {
     "data": {
      "text/plain": [
       "0.82130822240395"
      ]
     },
     "execution_count": 29,
     "metadata": {},
     "output_type": "execute_result"
    }
   ],
   "source": [
    "cv = KFold(n_splits=10, random_state=1, shuffle=True)\n",
    "mdl = XGBRegressor(n_estimators = 100,random_state = 42)\n",
    "np.mean(cross_val_score(mdl, X[feature_importance(X,y1,'xgb')['Variable'][:10]], y1, scoring='r2', cv=cv))"
   ]
  },
  {
   "cell_type": "code",
   "execution_count": 30,
   "metadata": {},
   "outputs": [
    {
     "data": {
      "text/plain": [
       "0.31251223838676223"
      ]
     },
     "execution_count": 30,
     "metadata": {},
     "output_type": "execute_result"
    }
   ],
   "source": [
    "cv = KFold(n_splits=10, random_state=1, shuffle=True)\n",
    "mdl = AdaBoostRegressor(n_estimators = 100,random_state = 42)\n",
    "np.mean(cross_val_score(mdl, X, y, scoring='r2', cv=cv))"
   ]
  },
  {
   "cell_type": "code",
   "execution_count": 154,
   "metadata": {},
   "outputs": [
    {
     "name": "stdout",
     "output_type": "stream",
     "text": [
      "moii25 target value\n",
      "\n"
     ]
    },
    {
     "data": {
      "text/html": [
       "<div>\n",
       "<style scoped>\n",
       "    .dataframe tbody tr th:only-of-type {\n",
       "        vertical-align: middle;\n",
       "    }\n",
       "\n",
       "    .dataframe tbody tr th {\n",
       "        vertical-align: top;\n",
       "    }\n",
       "\n",
       "    .dataframe thead th {\n",
       "        text-align: right;\n",
       "    }\n",
       "</style>\n",
       "<table border=\"1\" class=\"dataframe\">\n",
       "  <thead>\n",
       "    <tr style=\"text-align: right;\">\n",
       "      <th></th>\n",
       "      <th>All Features</th>\n",
       "      <th>Top 30 Features</th>\n",
       "      <th>Top 20 Features</th>\n",
       "      <th>Top 10 Features</th>\n",
       "    </tr>\n",
       "    <tr>\n",
       "      <th>$R^2$ Results</th>\n",
       "      <th></th>\n",
       "      <th></th>\n",
       "      <th></th>\n",
       "      <th></th>\n",
       "    </tr>\n",
       "  </thead>\n",
       "  <tbody>\n",
       "    <tr>\n",
       "      <th>Random Forest</th>\n",
       "      <td>0.6188</td>\n",
       "      <td>0.6656</td>\n",
       "      <td>0.7136</td>\n",
       "      <td>0.7441</td>\n",
       "    </tr>\n",
       "    <tr>\n",
       "      <th>AdaBoost</th>\n",
       "      <td>0.3125</td>\n",
       "      <td>0.3186</td>\n",
       "      <td>0.3100</td>\n",
       "      <td>0.3214</td>\n",
       "    </tr>\n",
       "    <tr>\n",
       "      <th>XGBoost</th>\n",
       "      <td>0.5906</td>\n",
       "      <td>0.7013</td>\n",
       "      <td>0.7211</td>\n",
       "      <td>0.7391</td>\n",
       "    </tr>\n",
       "  </tbody>\n",
       "</table>\n",
       "</div>"
      ],
      "text/plain": [
       "               All Features  Top 30 Features  Top 20 Features  Top 10 Features\n",
       "$R^2$ Results                                                                 \n",
       "Random Forest        0.6188           0.6656           0.7136           0.7441\n",
       "AdaBoost             0.3125           0.3186           0.3100           0.3214\n",
       "XGBoost              0.5906           0.7013           0.7211           0.7391"
      ]
     },
     "execution_count": 154,
     "metadata": {},
     "output_type": "execute_result"
    }
   ],
   "source": [
    "print('moii25 target value\\n')\n",
    "xx = pd.DataFrame({'All Features':[0.6188, 0.3125, 0.5906],\n",
    "             'Top 30 Features': [0.6656, 0.3186, 0.7013], \n",
    "              'Top 20 Features': [0.7136, 0.31, 0.7211], \n",
    "              'Top 10 Features': [0.7441, 0.3214, 0.7391],\n",
    "             '$R^2$ Results': ['Random Forest', 'AdaBoost','XGBoost']}).set_index('$R^2$ Results')\n",
    "xx"
   ]
  },
  {
   "cell_type": "code",
   "execution_count": 155,
   "metadata": {},
   "outputs": [
    {
     "data": {
      "text/html": [
       "<div>\n",
       "<style scoped>\n",
       "    .dataframe tbody tr th:only-of-type {\n",
       "        vertical-align: middle;\n",
       "    }\n",
       "\n",
       "    .dataframe tbody tr th {\n",
       "        vertical-align: top;\n",
       "    }\n",
       "\n",
       "    .dataframe thead th {\n",
       "        text-align: right;\n",
       "    }\n",
       "</style>\n",
       "<table border=\"1\" class=\"dataframe\">\n",
       "  <thead>\n",
       "    <tr style=\"text-align: right;\">\n",
       "      <th>$R^2$ Results</th>\n",
       "      <th>Random Forest</th>\n",
       "      <th>AdaBoost</th>\n",
       "      <th>XGBoost</th>\n",
       "    </tr>\n",
       "  </thead>\n",
       "  <tbody>\n",
       "    <tr>\n",
       "      <th>All Features</th>\n",
       "      <td>0.6188</td>\n",
       "      <td>0.3125</td>\n",
       "      <td>0.5906</td>\n",
       "    </tr>\n",
       "    <tr>\n",
       "      <th>Top 30 Features</th>\n",
       "      <td>0.6656</td>\n",
       "      <td>0.3186</td>\n",
       "      <td>0.7013</td>\n",
       "    </tr>\n",
       "    <tr>\n",
       "      <th>Top 20 Features</th>\n",
       "      <td>0.7136</td>\n",
       "      <td>0.3100</td>\n",
       "      <td>0.7211</td>\n",
       "    </tr>\n",
       "    <tr>\n",
       "      <th>Top 10 Features</th>\n",
       "      <td>0.7441</td>\n",
       "      <td>0.3214</td>\n",
       "      <td>0.7391</td>\n",
       "    </tr>\n",
       "  </tbody>\n",
       "</table>\n",
       "</div>"
      ],
      "text/plain": [
       "$R^2$ Results    Random Forest  AdaBoost  XGBoost\n",
       "All Features            0.6188    0.3125   0.5906\n",
       "Top 30 Features         0.6656    0.3186   0.7013\n",
       "Top 20 Features         0.7136    0.3100   0.7211\n",
       "Top 10 Features         0.7441    0.3214   0.7391"
      ]
     },
     "execution_count": 155,
     "metadata": {},
     "output_type": "execute_result"
    }
   ],
   "source": [
    "xx.T"
   ]
  },
  {
   "cell_type": "code",
   "execution_count": 156,
   "metadata": {},
   "outputs": [
    {
     "name": "stdout",
     "output_type": "stream",
     "text": [
      "meii25 target value\n",
      "\n"
     ]
    },
    {
     "data": {
      "text/html": [
       "<div>\n",
       "<style scoped>\n",
       "    .dataframe tbody tr th:only-of-type {\n",
       "        vertical-align: middle;\n",
       "    }\n",
       "\n",
       "    .dataframe tbody tr th {\n",
       "        vertical-align: top;\n",
       "    }\n",
       "\n",
       "    .dataframe thead th {\n",
       "        text-align: right;\n",
       "    }\n",
       "</style>\n",
       "<table border=\"1\" class=\"dataframe\">\n",
       "  <thead>\n",
       "    <tr style=\"text-align: right;\">\n",
       "      <th></th>\n",
       "      <th>All Features</th>\n",
       "      <th>Top 30 Features</th>\n",
       "      <th>Top 20 Features</th>\n",
       "      <th>Top 10 Features</th>\n",
       "    </tr>\n",
       "    <tr>\n",
       "      <th>$R^2$ Results</th>\n",
       "      <th></th>\n",
       "      <th></th>\n",
       "      <th></th>\n",
       "      <th></th>\n",
       "    </tr>\n",
       "  </thead>\n",
       "  <tbody>\n",
       "    <tr>\n",
       "      <th>Random Forest</th>\n",
       "      <td>0.7301</td>\n",
       "      <td>0.7610</td>\n",
       "      <td>0.7851</td>\n",
       "      <td>0.8113</td>\n",
       "    </tr>\n",
       "    <tr>\n",
       "      <th>AdaBoost</th>\n",
       "      <td>0.4503</td>\n",
       "      <td>0.4461</td>\n",
       "      <td>0.4562</td>\n",
       "      <td>0.4431</td>\n",
       "    </tr>\n",
       "    <tr>\n",
       "      <th>XGBoost</th>\n",
       "      <td>0.7079</td>\n",
       "      <td>0.7746</td>\n",
       "      <td>0.7981</td>\n",
       "      <td>0.8313</td>\n",
       "    </tr>\n",
       "  </tbody>\n",
       "</table>\n",
       "</div>"
      ],
      "text/plain": [
       "               All Features  Top 30 Features  Top 20 Features  Top 10 Features\n",
       "$R^2$ Results                                                                 \n",
       "Random Forest        0.7301           0.7610           0.7851           0.8113\n",
       "AdaBoost             0.4503           0.4461           0.4562           0.4431\n",
       "XGBoost              0.7079           0.7746           0.7981           0.8313"
      ]
     },
     "execution_count": 156,
     "metadata": {},
     "output_type": "execute_result"
    }
   ],
   "source": [
    "print('meii25 target value\\n')\n",
    "xx = pd.DataFrame({'All Features':[0.7301, 0.4503, 0.7079],\n",
    "             'Top 30 Features': [0.7610, 0.4461, 0.7746], \n",
    "              'Top 20 Features': [0.7851, 0.4562, 0.7981], \n",
    "              'Top 10 Features': [0.8113, 0.4431, 0.8313],\n",
    "             '$R^2$ Results': ['Random Forest', 'AdaBoost','XGBoost']}).set_index('$R^2$ Results')\n",
    "xx"
   ]
  },
  {
   "cell_type": "code",
   "execution_count": 157,
   "metadata": {},
   "outputs": [
    {
     "data": {
      "text/html": [
       "<div>\n",
       "<style scoped>\n",
       "    .dataframe tbody tr th:only-of-type {\n",
       "        vertical-align: middle;\n",
       "    }\n",
       "\n",
       "    .dataframe tbody tr th {\n",
       "        vertical-align: top;\n",
       "    }\n",
       "\n",
       "    .dataframe thead th {\n",
       "        text-align: right;\n",
       "    }\n",
       "</style>\n",
       "<table border=\"1\" class=\"dataframe\">\n",
       "  <thead>\n",
       "    <tr style=\"text-align: right;\">\n",
       "      <th>$R^2$ Results</th>\n",
       "      <th>Random Forest</th>\n",
       "      <th>AdaBoost</th>\n",
       "      <th>XGBoost</th>\n",
       "    </tr>\n",
       "  </thead>\n",
       "  <tbody>\n",
       "    <tr>\n",
       "      <th>All Features</th>\n",
       "      <td>0.7301</td>\n",
       "      <td>0.4503</td>\n",
       "      <td>0.7079</td>\n",
       "    </tr>\n",
       "    <tr>\n",
       "      <th>Top 30 Features</th>\n",
       "      <td>0.7610</td>\n",
       "      <td>0.4461</td>\n",
       "      <td>0.7746</td>\n",
       "    </tr>\n",
       "    <tr>\n",
       "      <th>Top 20 Features</th>\n",
       "      <td>0.7851</td>\n",
       "      <td>0.4562</td>\n",
       "      <td>0.7981</td>\n",
       "    </tr>\n",
       "    <tr>\n",
       "      <th>Top 10 Features</th>\n",
       "      <td>0.8113</td>\n",
       "      <td>0.4431</td>\n",
       "      <td>0.8313</td>\n",
       "    </tr>\n",
       "  </tbody>\n",
       "</table>\n",
       "</div>"
      ],
      "text/plain": [
       "$R^2$ Results    Random Forest  AdaBoost  XGBoost\n",
       "All Features            0.7301    0.4503   0.7079\n",
       "Top 30 Features         0.7610    0.4461   0.7746\n",
       "Top 20 Features         0.7851    0.4562   0.7981\n",
       "Top 10 Features         0.8113    0.4431   0.8313"
      ]
     },
     "execution_count": 157,
     "metadata": {},
     "output_type": "execute_result"
    }
   ],
   "source": [
    "xx.T"
   ]
  },
  {
   "cell_type": "markdown",
   "metadata": {},
   "source": [
    "# 9. Longitudinal Comparison\n",
    "\n",
    "## 9.1. Fixed Target Value, Different Predictors"
   ]
  },
  {
   "cell_type": "code",
   "execution_count": 31,
   "metadata": {},
   "outputs": [],
   "source": [
    "def get_scores(month,X,y, method):\n",
    "    \n",
    "    cv = KFold(n_splits=10, random_state=1, shuffle=True)\n",
    "    if method == \"rf\":\n",
    "        model = RandomForestRegressor(random_state=42, n_jobs=-1)\n",
    "    elif method == \"abr\":\n",
    "        model = AdaBoostRegressor(random_state=42,learning_rate=1)\n",
    "    elif method == \"xgb\":\n",
    "        model = XGBRegressor(random_state=42,learning_rate=1)\n",
    "     \n",
    "    X_feat = X[[col for col in months[month] if col in X.columns]]\n",
    "    model.fit(X_feat, y)\n",
    "    importances = model.feature_importances_\n",
    "    indices = np.argsort(importances)[-10:]  # top 10 features\n",
    "    features = [X_feat.columns[i] for i in indices]\n",
    "        \n",
    "    cv_scores_r2 = cross_val_score(model, X_feat[features], y, scoring='r2', cv=cv)\n",
    "        \n",
    "    return features, np.mean(cv_scores_r2)"
   ]
  },
  {
   "cell_type": "code",
   "execution_count": 32,
   "metadata": {},
   "outputs": [
    {
     "data": {
      "text/plain": [
       "dict_keys(['month_0', 'month_1', 'month_2', 'month_3', 'month_4', 'month_7', 'month_10', 'month_13', 'month_16', 'month_19', 'month_22', 'month_25'])"
      ]
     },
     "execution_count": 32,
     "metadata": {},
     "output_type": "execute_result"
    }
   ],
   "source": [
    "months.keys()"
   ]
  },
  {
   "cell_type": "code",
   "execution_count": 33,
   "metadata": {},
   "outputs": [],
   "source": [
    "month_feat = {}\n",
    "month_score = {}\n",
    "for month in [m for m in months.keys()]:\n",
    "# for month in [m for m in months.keys() if m not in ['month_25', 'month_60']]:\n",
    "    month_feat['{}'.format(month)] = get_scores(month,X,y1,'rf')[0]\n",
    "    month_score['{}'.format(month)] = get_scores(month,X,y1,'rf')[1]"
   ]
  },
  {
   "cell_type": "code",
   "execution_count": 34,
   "metadata": {},
   "outputs": [],
   "source": [
    "month_feat2 = {}\n",
    "month_score2 = {}\n",
    "for month in [m for m in months.keys()]:\n",
    "# for month in [m for m in months.keys() if m not in ['month_25', 'month_60']]:\n",
    "    month_feat2['{}'.format(month)] = get_scores(month,X,y,'rf')[0]\n",
    "    month_score2['{}'.format(month)] = get_scores(month,X,y,'rf')[1]"
   ]
  },
  {
   "cell_type": "code",
   "execution_count": 35,
   "metadata": {},
   "outputs": [],
   "source": [
    "yy = pd.DataFrame()\n",
    "yy['time'] = month_score.keys()\n",
    "yy['moii25'] = month_score2.values()\n",
    "yy['meii25'] = month_score.values()\n",
    "\n",
    "yy = pd.melt(yy, id_vars=\"time\", var_name=\"Target Value\", value_name=\"R2\")"
   ]
  },
  {
   "cell_type": "code",
   "execution_count": 36,
   "metadata": {},
   "outputs": [
    {
     "data": {
      "image/png": "[encoded data removed]",
      "text/plain": [
       "<Figure size 641.625x288 with 1 Axes>"
      ]
     },
     "metadata": {},
     "output_type": "display_data"
    }
   ],
   "source": [
    "sns.set_style(\"white\")\n",
    "aa = sns.factorplot(x='time', y='R2', hue='Target Value', data=yy, kind='bar',size=4, aspect=2)\n",
    "aa.set_xticklabels(rotation=30,labels=['at birth','< month 1','< month 2','< month 3','< month 4','< month 7','< month 10',\n",
    "                                        '< month 13','< month 16','< month 19','< month 22','< month 25'],fontsize=14,color='black')\n",
    "aa._legend.remove()\n",
    "plt.axhline(y=0.8, color='r', linestyle='-')\n",
    "plt.legend(loc='best')\n",
    "plt.title('$R^2$ Results for Target Values of \"moii25\" and \"meii25',fontsize=16,color='black')\n",
    "plt.tight_layout()\n",
    "# plt.savefig('preictores-comparison.png')\n",
    "plt.show()"
   ]
  },
  {
   "cell_type": "code",
   "execution_count": 66,
   "metadata": {},
   "outputs": [],
   "source": [
    "# dic[dic['Variable Name'].isin(months['month_0'])][['Variable Name','Description']].to_excel('At-birth Variables.xlsx')"
   ]
  },
  {
   "cell_type": "markdown",
   "metadata": {},
   "source": [
    "## 8.1. At-birth as predictor and Longitudinal months as output"
   ]
  },
  {
   "cell_type": "code",
   "execution_count": 37,
   "metadata": {},
   "outputs": [
    {
     "data": {
      "text/plain": [
       "array(['meii10', 'meii13', 'meii16', 'meii19', 'meii22', 'meii25',\n",
       "       'meii04', 'meii07'], dtype=object)"
      ]
     },
     "execution_count": 37,
     "metadata": {},
     "output_type": "execute_result"
    }
   ],
   "source": [
    "dic[dic['Variable Name'].str.contains('meii')]['Variable Name'].values"
   ]
  },
  {
   "cell_type": "code",
   "execution_count": 38,
   "metadata": {},
   "outputs": [
    {
     "data": {
      "text/plain": [
       "(2934, 71)"
      ]
     },
     "execution_count": 38,
     "metadata": {},
     "output_type": "execute_result"
    }
   ],
   "source": [
    "X_ab = X[at_birth]\n",
    "X_ab.shape"
   ]
  },
  {
   "cell_type": "code",
   "execution_count": 39,
   "metadata": {},
   "outputs": [],
   "source": [
    "def get_scores_ab(xx,yy1):\n",
    "    yyy = df_std[yy1]\n",
    "    rf = RandomForestRegressor(n_estimators=100, n_jobs=-1)\n",
    "#     rf = XGBRegressor(n_estimators=100, n_jobs=-1)\n",
    "    rf.fit(xx, yyy)\n",
    "    importances = rf.feature_importances_\n",
    "    indices = np.argsort(importances)[-10:]  # top 30 features\n",
    "    features = [xx.columns[i] for i in indices]\n",
    "    cv_scores_r2 = cross_val_score(rf, xx[features], yyy, scoring='r2', cv=10)\n",
    "#     score = rf_regress(xx[features], yyy)\n",
    "#     importances[indices].sum()\n",
    "    return features, np.mean(cv_scores_r2)"
   ]
  },
  {
   "cell_type": "code",
   "execution_count": 40,
   "metadata": {},
   "outputs": [],
   "source": [
    "X, y, y1 = df_std.drop(['codeid','moii25','meii25'],axis=1), df_std['moii25'], df_std['meii25']"
   ]
  },
  {
   "cell_type": "code",
   "execution_count": 41,
   "metadata": {},
   "outputs": [
    {
     "data": {
      "text/plain": [
       "(2934, 148)"
      ]
     },
     "execution_count": 41,
     "metadata": {},
     "output_type": "execute_result"
    }
   ],
   "source": [
    "X.shape"
   ]
  },
  {
   "cell_type": "code",
   "execution_count": 48,
   "metadata": {},
   "outputs": [],
   "source": [
    "birth_feat = {}\n",
    "birth_score = {}\n",
    "for yy1 in ['meii04', 'meii07', 'meii10', 'meii13', 'meii16', 'meii19','meii22', 'meii25']:\n",
    "    birth_feat['{}'.format(yy1)] = get_scores_ab(X_ab,yy1)[0]\n",
    "    birth_score['{}'.format(yy1)] = get_scores_ab(X_ab,yy1)[1]"
   ]
  },
  {
   "cell_type": "code",
   "execution_count": 49,
   "metadata": {},
   "outputs": [],
   "source": [
    "birth_feat2 = {}\n",
    "birth_score2 = {}\n",
    "for yy2 in ['moii04', 'moii07', 'moii10', 'moii13', 'moii16', 'moii19','moii22', 'moii25']:\n",
    "    birth_feat2['{}'.format(yy)] = get_scores_ab(X_ab,yy2)[0]\n",
    "    birth_score2['{}'.format(yy)] = get_scores_ab(X_ab,yy2)[1]"
   ]
  },
  {
   "cell_type": "code",
   "execution_count": 1,
   "metadata": {},
   "outputs": [],
   "source": [
    "zz = pd.DataFrame()\n",
    "zz['time'] = birth_score.keys()\n",
    "zz['motor develop.'] = birth_score2.values()\n",
    "zz['mental develop.'] = birth_score.values()\n",
    "\n",
    "zz = pd.melt(zz, id_vars=\"time\", var_name=\"Target Value\", value_name=\"R2\")"
   ]
  },
  {
   "cell_type": "code",
   "execution_count": 46,
   "metadata": {},
   "outputs": [
    {
     "data": {
      "image/png": "[encoded data removed]",
      "text/plain": [
       "<Figure size 682.75x288 with 1 Axes>"
      ]
     },
     "metadata": {},
     "output_type": "display_data"
    }
   ],
   "source": [
    "sns.set_style(\"white\")\n",
    "aa = sns.factorplot(x='time', y='R2', hue='Target Value', data=zz, kind='bar',size=4, aspect=2)\n",
    "aa.set_xticklabels(rotation=30,labels=['month 4','month 7','month 10','month 13','month 16','month 19','month 22',\n",
    "                                        'month 25'],fontsize=14,color='black')\n",
    "aa._legend.remove()\n",
    "# plt.axhline(y=0.8, color='r', linestyle='-')\n",
    "plt.legend(loc='best')\n",
    "plt.title('$R^2$ Results for Different Target Values', fontsize=16,color='black')\n",
    "plt.tight_layout()\n",
    "# plt.savefig('at-birth-results.png')\n",
    "plt.show()"
   ]
  },
  {
   "cell_type": "markdown",
   "metadata": {},
   "source": [
    "---"
   ]
  }
 ],
 "metadata": {
  "kernelspec": {
   "display_name": "Python 3 (ipykernel)",
   "language": "python",
   "name": "python3"
  },
  "language_info": {
   "codemirror_mode": {
    "name": "ipython",
    "version": 3
   },
   "file_extension": ".py",
   "mimetype": "text/x-python",
   "name": "python",
   "nbconvert_exporter": "python",
   "pygments_lexer": "ipython3",
   "version": "3.9.7"
  }
 },
 "nbformat": 4,
 "nbformat_minor": 4
}
